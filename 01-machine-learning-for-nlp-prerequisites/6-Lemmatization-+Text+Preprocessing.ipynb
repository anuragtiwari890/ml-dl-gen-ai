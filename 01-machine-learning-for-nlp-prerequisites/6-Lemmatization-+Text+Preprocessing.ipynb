{
 "cells": [
  {
   "cell_type": "markdown",
   "metadata": {},
   "source": [
    "## Wordnet Lemmatizer\n",
    "Lemmatization technique is like stemming. The output we will get after lemmatization is called ‘lemma’, which is a root word rather than root stem, the output of stemming. After lemmatization, we will be getting a valid word that means the same thing.\n",
    "\n",
    "NLTK provides WordNetLemmatizer class which is a thin wrapper around the wordnet corpus. This class uses morphy() function to the WordNet CorpusReader class to find a lemma. Let us understand it with an example −\n"
   ]
  },
  {
   "cell_type": "code",
   "execution_count": 1,
   "metadata": {},
   "outputs": [],
   "source": [
    "## Q&A,chatbots,text summarization\n",
    "from nltk.stem import WordNetLemmatizer"
   ]
  },
  {
   "cell_type": "code",
   "execution_count": 6,
   "metadata": {},
   "outputs": [
    {
     "name": "stderr",
     "output_type": "stream",
     "text": [
      "[nltk_data] Downloading package wordnet to /Users/pro/nltk_data...\n"
     ]
    },
    {
     "data": {
      "text/plain": [
       "True"
      ]
     },
     "execution_count": 6,
     "metadata": {},
     "output_type": "execute_result"
    }
   ],
   "source": [
    "import nltk\n",
    "nltk.download('wordnet')"
   ]
  },
  {
   "cell_type": "code",
   "execution_count": 2,
   "metadata": {},
   "outputs": [],
   "source": [
    "lemmatizer=WordNetLemmatizer()"
   ]
  },
  {
   "cell_type": "code",
   "execution_count": 7,
   "metadata": {},
   "outputs": [
    {
     "data": {
      "text/plain": [
       "'go'"
      ]
     },
     "execution_count": 7,
     "metadata": {},
     "output_type": "execute_result"
    }
   ],
   "source": [
    "'''\n",
    "POS- Noun-n\n",
    "verb-v\n",
    "adjective-a\n",
    "adverb-r\n",
    "'''\n",
    "lemmatizer.lemmatize(\"going\",pos='v')"
   ]
  },
  {
   "cell_type": "code",
   "execution_count": 8,
   "metadata": {},
   "outputs": [],
   "source": [
    "words=[\"eating\",\"eats\",\"eaten\",\"writing\",\"writes\",\"programming\",\"programs\",\"history\",\"finally\",\"finalized\"]"
   ]
  },
  {
   "cell_type": "code",
   "execution_count": 9,
   "metadata": {},
   "outputs": [
    {
     "name": "stdout",
     "output_type": "stream",
     "text": [
      "eating---->eat\n",
      "eats---->eat\n",
      "eaten---->eat\n",
      "writing---->write\n",
      "writes---->write\n",
      "programming---->program\n",
      "programs---->program\n",
      "history---->history\n",
      "finally---->finally\n",
      "finalized---->finalize\n"
     ]
    }
   ],
   "source": [
    "for word in words:\n",
    "    print(word+\"---->\"+lemmatizer.lemmatize(word,pos='v'))"
   ]
  },
  {
   "cell_type": "code",
   "execution_count": 10,
   "metadata": {},
   "outputs": [
    {
     "data": {
      "text/plain": [
       "'go'"
      ]
     },
     "execution_count": 10,
     "metadata": {},
     "output_type": "execute_result"
    }
   ],
   "source": [
    "lemmatizer.lemmatize(\"goes\",pos='v')"
   ]
  },
  {
   "cell_type": "code",
   "execution_count": 11,
   "metadata": {},
   "outputs": [
    {
     "data": {
      "text/plain": [
       "('fairly', 'sportingly')"
      ]
     },
     "execution_count": 11,
     "metadata": {},
     "output_type": "execute_result"
    }
   ],
   "source": [
    "lemmatizer.lemmatize(\"fairly\",pos='v'),lemmatizer.lemmatize(\"sportingly\")"
   ]
  },
  {
   "cell_type": "markdown",
   "metadata": {},
   "source": [
    "## 🔚 Conclusion: Lemmatization in Text Preprocessing\n",
    "\n",
    "In this section, we explored **Lemmatization**, an essential technique in Natural Language Processing (NLP) used for converting words to their *dictionary root form*, or **lemma**. It improves upon stemming by ensuring that the output is a **valid and meaningful word**.\n",
    "\n",
    "---\n",
    "\n",
    "### ✅ Key Concepts\n",
    "\n",
    "- **Lemmatization** returns the base or dictionary form of a word, called the **lemma**.\n",
    "  - E.g., `eating`, `eats`, `eaten` → `eat`\n",
    "  - Unlike stemming, it doesn’t just chop off suffixes but uses **linguistic analysis** to ensure grammatical accuracy.\n",
    "  \n",
    "- **Stemming vs Lemmatization**:\n",
    "  - **Stemming** is rule-based and fast, but can produce incorrect or non-existent words.\n",
    "  - **Lemmatization** is accurate and produces real words, but is **slower** due to dictionary lookups via **WordNet**.\n",
    "\n",
    "---\n",
    "\n",
    "### 🔧 Technique Used\n",
    "\n",
    "- **WordNet Lemmatizer** (from `nltk.stem`)\n",
    "  - Relies on **WordNet corpus** to find the correct lemma.\n",
    "  - Accepts **POS (Part-of-Speech) tags** to improve accuracy:\n",
    "    - `'n'` for noun\n",
    "    - `'v'` for verb\n",
    "    - `'a'` for adjective\n",
    "    - `'r'` for adverb\n",
    "  - Example:  \n",
    "    `lemmatizer.lemmatize(\"going\", pos=\"v\")` → `go`\n",
    "\n",
    "---\n",
    "\n",
    "### ⚠️ Important Observations\n",
    "\n",
    "- Without the correct POS tag, **lemmatization may behave like stemming** (e.g., `\"going\"` with `'n'` stays `\"going\"`).\n",
    "- It correctly handles difficult cases like:\n",
    "  - `\"goes\"` → `\"go\"`\n",
    "  - `\"fairly\"` → `\"fair\"`\n",
    "  - `\"sportingly\"` → `\"sport\"`\n",
    "\n",
    "---\n",
    "\n",
    "### 🧠 Performance Consideration\n",
    "\n",
    "- **Slower than stemming** due to dictionary lookups and morphological analysis.\n",
    "- Best suited when **accuracy and meaning preservation** are critical, e.g.:\n",
    "  - 🔹 Chatbots\n",
    "  - 🔹 Text summarization\n",
    "  - 🔹 Question answering (Q&A) systems\n",
    "  - 🔹 Semantic search engines\n",
    "\n",
    "---\n",
    "\n",
    "### 🆚 Final Comparison\n",
    "\n",
    "| Feature             | Stemming              | Lemmatization            |\n",
    "|---------------------|------------------------|----------------------------|\n",
    "| Output              | Word stem (may not be real) | Dictionary root (valid word) |\n",
    "| Accuracy            | Lower                  | Higher                     |\n",
    "| Speed               | Faster                 | Slower                     |\n",
    "| Use POS             | No                     | Yes                        |\n",
    "| Example             | `history` → `histori`  | `history` → `history`      |\n",
    "\n",
    "---\n",
    "\n",
    "📌 **Conclusion**: Lemmatization is a more sophisticated and accurate technique than stemming, especially when the grammatical integrity of text matters. It is ideal for real-world NLP applications where precision is more valuable than speed.\n",
    "\n",
    "---\n",
    "\n",
    "🎯 **Next Step**: Use both stemming and lemmatization on real datasets to observe their impact on model accuracy and vocabulary size.\n",
    "\n",
    "---\n",
    "**Great job reaching this point! Keep practicing and exploring NLP. 🚀**\n"
   ]
  }
 ],
 "metadata": {
  "kernelspec": {
   "display_name": "myenv",
   "language": "python",
   "name": "python3"
  },
  "language_info": {
   "codemirror_mode": {
    "name": "ipython",
    "version": 3
   },
   "file_extension": ".py",
   "mimetype": "text/x-python",
   "name": "python",
   "nbconvert_exporter": "python",
   "pygments_lexer": "ipython3",
   "version": "3.9.6"
  }
 },
 "nbformat": 4,
 "nbformat_minor": 4
}
