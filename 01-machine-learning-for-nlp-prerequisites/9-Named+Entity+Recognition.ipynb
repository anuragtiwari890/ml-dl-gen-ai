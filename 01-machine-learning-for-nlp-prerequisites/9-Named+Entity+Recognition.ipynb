{
 "cells": [
  {
   "cell_type": "markdown",
   "metadata": {},
   "source": [
    "### Named Entity Recognition"
   ]
  },
  {
   "cell_type": "markdown",
   "metadata": {},
   "source": [
    "# 🧠 What You’ll Learn in This Notebook: Named Entity Recognition (NER) with NLTK\n",
    "\n",
    "In this notebook, we continue our journey in **Natural Language Processing (NLP)** by exploring **Named Entity Recognition (NER)** — a powerful technique to identify and classify real-world entities from text.\n",
    "\n",
    "---\n",
    "\n",
    "### ❓ Why Do We Need Named Entity Recognition?\n",
    "\n",
    "While POS tagging helps identify **grammatical structure**, NER goes a step further by detecting **semantic meaning**—recognizing which words refer to **people**, **locations**, **dates**, **organizations**, **money amounts**, and more.\n",
    "\n",
    "NER is essential for:\n",
    "- 🧍 **Identifying key entities** in documents, such as names, places, and dates.\n",
    "- 🔎 **Improving information extraction** for applications like question answering, search engines, and chatbots.\n",
    "- 📊 **Structuring unstructured text** for downstream analysis (e.g., converting free-form text into structured data).\n",
    "- 💬 **Context-aware processing**—helping models understand not just what a word is, but what it represents in the real world.\n",
    "\n",
    "---\n",
    "\n",
    "### ✅ By the end of this notebook, you will:\n",
    "- Understand what Named Entity Recognition (NER) is and how it differs from POS tagging.\n",
    "- Learn how to perform NER using **NLTK’s `ne_chunk`** method.\n",
    "- Apply NER to real-world text (e.g., identifying names, locations, dates from a sentence).\n",
    "- Visualize named entities in a tree-based structure using NLTK’s built-in **graphical parser**.\n",
    "- Resolve common issues like missing NLTK resources (e.g., downloading `maxent_ne_chunker` and `words` corpora).\n",
    "\n",
    "> 🧪 Example sentence analyzed:  \n",
    "> *“The Eiffel Tower was built from 1887 to 1889 by French engineer Gustave Eiffel.”*\n",
    "\n"
   ]
  },
  {
   "cell_type": "raw",
   "metadata": {},
   "source": [
    "sentence=\"The Eiffel Tower was built from 1887 to 1889 by French engineer Gustave Eiffel, whose company specialized in building metal frameworks and structures.\"\n",
    "\"\"\"\n",
    "Person Eg: Krish C Naik\n",
    "Place Or Location Eg: India\n",
    "Date Eg: September,24-09-1989\n",
    "Time  Eg: 4:30pm\n",
    "Money Eg: 1 million dollar\n",
    "Organization Eg: iNeuron Private Limited\n",
    "Percent Eg: 20%, twenty percent\n",
    "\"\"\""
   ]
  },
  {
   "cell_type": "code",
   "execution_count": 3,
   "metadata": {},
   "outputs": [],
   "source": [
    "sentence=\"The Eiffel Tower was built from 1887 to 1889 by Gustave Eiffel, whose company specialized in building metal frameworks and structures.\""
   ]
  },
  {
   "cell_type": "code",
   "execution_count": 4,
   "metadata": {},
   "outputs": [],
   "source": [
    "import nltk\n",
    "words=nltk.word_tokenize(sentence)"
   ]
  },
  {
   "cell_type": "code",
   "execution_count": 5,
   "metadata": {},
   "outputs": [],
   "source": [
    "tag_elements=nltk.pos_tag(words)"
   ]
  },
  {
   "cell_type": "code",
   "execution_count": 8,
   "metadata": {},
   "outputs": [
    {
     "name": "stderr",
     "output_type": "stream",
     "text": [
      "[nltk_data] Downloading package maxent_ne_chunker_tab to\n",
      "[nltk_data]     /Users/pro/nltk_data...\n",
      "[nltk_data]   Unzipping chunkers/maxent_ne_chunker_tab.zip.\n"
     ]
    },
    {
     "data": {
      "text/plain": [
       "True"
      ]
     },
     "execution_count": 8,
     "metadata": {},
     "output_type": "execute_result"
    }
   ],
   "source": [
    "nltk.download('maxent_ne_chunker_tab')"
   ]
  },
  {
   "cell_type": "code",
   "execution_count": 6,
   "metadata": {},
   "outputs": [
    {
     "name": "stderr",
     "output_type": "stream",
     "text": [
      "[nltk_data] Downloading package words to /Users/pro/nltk_data...\n",
      "[nltk_data]   Package words is already up-to-date!\n"
     ]
    },
    {
     "data": {
      "text/plain": [
       "True"
      ]
     },
     "execution_count": 6,
     "metadata": {},
     "output_type": "execute_result"
    }
   ],
   "source": [
    "nltk.download('words')"
   ]
  },
  {
   "cell_type": "code",
   "execution_count": null,
   "metadata": {},
   "outputs": [],
   "source": [
    "### This takes lot of time to execute, can be avoided to run, it open the GUI in the graph format\n",
    "nltk.ne_chunk(tag_elements).draw()"
   ]
  },
  {
   "cell_type": "code",
   "execution_count": null,
   "metadata": {},
   "outputs": [],
   "source": [
    "ner_tree = nltk.ne_chunk(tag_elements)\n",
    "print(ner_tree)"
   ]
  },
  {
   "cell_type": "code",
   "execution_count": 10,
   "metadata": {},
   "outputs": [
    {
     "name": "stdout",
     "output_type": "stream",
     "text": [
      "                                                                                             S                                                                                                                                           \n",
      "   __________________________________________________________________________________________|____________________________________________________________________________________________________________________________                \n",
      "  |       |        |        |       |      |      |      |    |      |         |             |          |        |         |           |          |          |         |             ORGANIZATION                       PERSON           \n",
      "  |       |        |        |       |      |      |      |    |      |         |             |          |        |         |           |          |          |         |       ___________|___________            ________|________       \n",
      "The/DT was/VBD built/VBN from/IN 1887/CD to/TO 1889/CD by/IN ,/, whose/WP$ company/NN specialized/VBD in/IN building/NN metal/NN frameworks/NNS and/CC structures/NNS ./. Eiffel/NNP              Tower/NNP Gustave/NNP        Eiffel/NNP\n",
      "\n"
     ]
    }
   ],
   "source": [
    "ner_tree.pretty_print()"
   ]
  },
  {
   "cell_type": "markdown",
   "metadata": {},
   "source": [
    "---\n",
    "\n",
    "## ✅ Conclusion\n",
    "\n",
    "In this notebook, you learned how to perform **Named Entity Recognition (NER)** using NLTK. You saw how NER helps extract meaningful entities like **persons**, **locations**, **dates**, and **organizations** from raw text. By combining NER with POS tagging, you can build more intelligent NLP systems that understand both the structure and the meaning of language.\n",
    "\n",
    "Keep exploring NER with different sentences and texts to deepen your understanding!\n",
    "\n"
   ]
  }
 ],
 "metadata": {
  "kernelspec": {
   "display_name": "myenv",
   "language": "python",
   "name": "python3"
  },
  "language_info": {
   "codemirror_mode": {
    "name": "ipython",
    "version": 3
   },
   "file_extension": ".py",
   "mimetype": "text/x-python",
   "name": "python",
   "nbconvert_exporter": "python",
   "pygments_lexer": "ipython3",
   "version": "3.9.6"
  }
 },
 "nbformat": 4,
 "nbformat_minor": 4
}
