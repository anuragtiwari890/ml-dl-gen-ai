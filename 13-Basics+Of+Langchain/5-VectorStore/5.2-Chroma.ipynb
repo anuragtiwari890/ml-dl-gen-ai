{
 "cells": [
  {
   "cell_type": "markdown",
   "metadata": {},
   "source": [
    "# Vector Stores: Utilizing Chroma for Persistent Vector Storage\n",
    "\n",
    "This Jupyter Notebook explores **Chroma**, an AI-native open-source vector database designed for developer productivity. Chroma offers a convenient way to store, manage, and query vector embeddings, making it an excellent choice for building RAG applications and semantic search systems.\n",
    "\n",
    "We will demonstrate how to:\n",
    "* Build an in-memory Chroma vector database.\n",
    "* Query the database for similarity.\n",
    "* Persist the Chroma database to disk for later use.\n",
    "* Perform similarity searches with relevance scores.\n",
    "* Integrate Chroma as a LangChain `Retriever`.\n",
    "\n",
    "## What You Will Learn:\n",
    "\n",
    "1.  **Chroma Basics**: What Chroma is and its role in AI applications.\n",
    "2.  **Building a Vector DB**: Loading, splitting, and embedding documents into Chroma using Ollama embeddings.\n",
    "3.  **In-Memory vs. Persistent Chroma**: Differentiating between temporary and disk-saved databases.\n",
    "4.  **Querying Chroma**: Performing similarity searches to retrieve relevant documents.\n",
    "5.  **Similarity Search with Scores**: Understanding how to get a relevance score along with retrieved documents.\n",
    "6.  **Chroma as a LangChain Retriever**: Integrating Chroma into the standard LangChain `Retriever` interface for streamlined RAG pipelines.\n",
    "\n",
    "## Key Concepts:\n",
    "\n",
    "* **Chroma**: An open-source, in-memory by default (but can be persistent) vector database that stores embeddings, documents, and metadata.\n",
    "* **Vector Database**: A specialized database optimized for storing and querying high-dimensional vectors (embeddings), enabling fast similarity searches.\n",
    "* **`persist_directory`**: A parameter in Chroma that specifies a local path to save the database files, ensuring data persistence across sessions.\n",
    "* **`embedding_function`**: The callable (e.g., an `OllamaEmbeddings` instance) that Chroma uses internally to convert text into vector embeddings.\n",
    "* **Similarity Search**: Finding documents in the vector database that are semantically similar to a given query.\n",
    "* **Similarity Score**: A numerical value indicating the similarity between the query and a retrieved document. For cosine similarity (often default for embeddings), higher values indicate more similarity (e.g., 0 to 1). For L2 distance (Euclidean), lower values mean higher similarity. Chroma's default for `similarity_search_with_score` is cosine distance, where a lower score indicates higher similarity, ranging from 0 (identical) to 2 (opposite).\n",
    "* **Retriever**: A LangChain component that retrieves relevant documents based on a query, abstracting the underlying vector store logic.\n",
    "\n",
    "## Prerequisites:\n",
    "Before running the code in this notebook, ensure you have:\n",
    "1.  **Ollama Installed and 'llama2' model pulled**: If you haven't already, run `ollama pull llama2` in your terminal, as `OllamaEmbeddings()` will use this model by default.\n",
    "2.  **Required Libraries Installed**:\n",
    "    ```bash\n",
    "    pip install langchain-chroma langchain-community langchain-text-splitters\n",
    "    ```"
   ]
  },
  {
   "cell_type": "markdown",
   "metadata": {},
   "source": [
    "#### Chroma\n",
    "Chroma is a AI-native open-source vector database focused on developer productivity and happiness. Chroma is licensed under Apache 2.0.\n",
    "\n",
    "https://python.langchain.com/v0.2/docs/integrations/vectorstores/"
   ]
  },
  {
   "cell_type": "code",
   "execution_count": 2,
   "metadata": {},
   "outputs": [
    {
     "name": "stderr",
     "output_type": "stream",
     "text": [
      "Failed to send telemetry event ClientStartEvent: capture() takes 1 positional argument but 3 were given\n",
      "Failed to send telemetry event ClientCreateCollectionEvent: capture() takes 1 positional argument but 3 were given\n"
     ]
    },
    {
     "name": "stdout",
     "output_type": "stream",
     "text": [
      "--- Loaded Documents ---\n",
      "[Document(metadata={'source': 'speech.txt'}, page_content='The world must be made safe for democracy. Its peace must be planted upon the tested foundations of political liberty. We have no selfish ends to serve. We desire no conquest, no dominion. We seek no indemnities for ourselves, no material compensation for the sacrifices we shall freely make. We are but one of the champions of the rights of mankind. We shall be satisfied when those rights have been made as secure as the faith and the freedom of nations can make them.\\n\\nJust because we fight without rancor and without selfish object, seeking nothing for ourselves but what we shall wish to share with all free peoples, we shall, I feel confident, conduct our operations as belligerents without passion and ourselves observe with proud punctilio the principles of right and of fair play we profess to be fighting for.\\n\\n…\\n\\nIt will be all the easier for us to conduct ourselves as belligerents in a high spirit of right and fairness because we act without animus, not in enmity toward a people or with the desire to bring any injury or disadvantage upon them, but only in armed opposition to an irresponsible government which has thrown aside all considerations of humanity and of right and is running amuck. We are, let me say again, the sincere friends of the German people, and shall desire nothing so much as the early reestablishment of intimate relations of mutual advantage between us—however hard it may be for them, for the time being, to believe that this is spoken from our hearts.\\n\\nWe have borne with their present government through all these bitter months because of that friendship—exercising a patience and forbearance which would otherwise have been impossible. We shall, happily, still have an opportunity to prove that friendship in our daily attitude and actions toward the millions of men and women of German birth and native sympathy who live among us and share our life, and we shall be proud to prove it toward all who are in fact loyal to their neighbors and to the government in the hour of test. They are, most of them, as true and loyal Americans as if they had never known any other fealty or allegiance. They will be prompt to stand with us in rebuking and restraining the few who may be of a different mind and purpose. If there should be disloyalty, it will be dealt with with a firm hand of stern repression; but, if it lifts its head at all, it will lift it only here and there and without countenance except from a lawless and malignant few.\\n\\nIt is a distressing and oppressive duty, gentlemen of the Congress, which I have performed in thus addressing you. There are, it may be, many months of fiery trial and sacrifice ahead of us. It is a fearful thing to lead this great peaceful people into war, into the most terrible and disastrous of all wars, civilization itself seeming to be in the balance. But the right is more precious than peace, and we shall fight for the things which we have always carried nearest our hearts—for democracy, for the right of those who submit to authority to have a voice in their own governments, for the rights and liberties of small nations, for a universal dominion of right by such a concert of free peoples as shall bring peace and safety to all nations and make the world itself at last free.\\n\\nTo such a task we can dedicate our lives and our fortunes, everything that we are and everything that we have, with the pride of those who know that the day has come when America is privileged to spend her blood and her might for the principles that gave her birth and happiness and the peace which she has treasured. God helping her, she can do no other.')]\n",
      "\n",
      "--- Split Document Chunks ---\n",
      "[Document(metadata={'source': 'speech.txt'}, page_content='The world must be made safe for democracy. Its peace must be planted upon the tested foundations of political liberty. We have no selfish ends to serve. We desire no conquest, no dominion. We seek no indemnities for ourselves, no material compensation for the sacrifices we shall freely make. We are but one of the champions of the rights of mankind. We shall be satisfied when those rights have been made as secure as the faith and the freedom of nations can make them.'), Document(metadata={'source': 'speech.txt'}, page_content='Just because we fight without rancor and without selfish object, seeking nothing for ourselves but what we shall wish to share with all free peoples, we shall, I feel confident, conduct our operations as belligerents without passion and ourselves observe with proud punctilio the principles of right and of fair play we profess to be fighting for.\\n\\n…'), Document(metadata={'source': 'speech.txt'}, page_content='It will be all the easier for us to conduct ourselves as belligerents in a high spirit of right and fairness because we act without animus, not in enmity toward a people or with the desire to bring any injury or disadvantage upon them, but only in armed opposition to an irresponsible government which has thrown aside all considerations of humanity and of right and is running amuck. We are, let me say again, the sincere friends of the German people, and shall desire nothing so much as the early'), Document(metadata={'source': 'speech.txt'}, page_content='reestablishment of intimate relations of mutual advantage between us—however hard it may be for them, for the time being, to believe that this is spoken from our hearts.'), Document(metadata={'source': 'speech.txt'}, page_content='We have borne with their present government through all these bitter months because of that friendship—exercising a patience and forbearance which would otherwise have been impossible. We shall, happily, still have an opportunity to prove that friendship in our daily attitude and actions toward the millions of men and women of German birth and native sympathy who live among us and share our life, and we shall be proud to prove it toward all who are in fact loyal to their neighbors and to the'), Document(metadata={'source': 'speech.txt'}, page_content='government in the hour of test. They are, most of them, as true and loyal Americans as if they had never known any other fealty or allegiance. They will be prompt to stand with us in rebuking and restraining the few who may be of a different mind and purpose. If there should be disloyalty, it will be dealt with with a firm hand of stern repression; but, if it lifts its head at all, it will lift it only here and there and without countenance except from a lawless and malignant few.'), Document(metadata={'source': 'speech.txt'}, page_content='It is a distressing and oppressive duty, gentlemen of the Congress, which I have performed in thus addressing you. There are, it may be, many months of fiery trial and sacrifice ahead of us. It is a fearful thing to lead this great peaceful people into war, into the most terrible and disastrous of all wars, civilization itself seeming to be in the balance. But the right is more precious than peace, and we shall fight for the things which we have always carried nearest our hearts—for democracy,'), Document(metadata={'source': 'speech.txt'}, page_content='for the right of those who submit to authority to have a voice in their own governments, for the rights and liberties of small nations, for a universal dominion of right by such a concert of free peoples as shall bring peace and safety to all nations and make the world itself at last free.'), Document(metadata={'source': 'speech.txt'}, page_content='To such a task we can dedicate our lives and our fortunes, everything that we are and everything that we have, with the pride of those who know that the day has come when America is privileged to spend her blood and her might for the principles that gave her birth and happiness and the peace which she has treasured. God helping her, she can do no other.')]\n",
      "\n",
      "--- In-Memory Chroma DB Created ---\n",
      "<langchain_chroma.vectorstores.Chroma object at 0x10c137c50>\n"
     ]
    }
   ],
   "source": [
    "# Import necessary classes for building a vector database with Chroma\n",
    "from langchain_chroma import Chroma\n",
    "from langchain_community.document_loaders import TextLoader\n",
    "from langchain_community.embeddings import OllamaEmbeddings\n",
    "from langchain_text_splitters import RecursiveCharacterTextSplitter\n",
    "import os # Import os for directory checks\n",
    "\n",
    "# --- 1. Load Documents ---\n",
    "# Initialize TextLoader to load content from 'speech.txt'\n",
    "loader = TextLoader(\"speech.txt\")\n",
    "data = loader.load()\n",
    "\n",
    "# Display the raw loaded Document objects (each page/file is a Document)\n",
    "print(\"--- Loaded Documents ---\")\n",
    "print(data)\n",
    "\n",
    "# --- 2. Split Documents ---\n",
    "# Initialize RecursiveCharacterTextSplitter to break down documents into smaller chunks.\n",
    "# chunk_size: maximum characters allowed in each chunk.\n",
    "# chunk_overlap: number of characters that overlap between consecutive chunks (set to 0 here).\n",
    "text_splitter = RecursiveCharacterTextSplitter(chunk_size=500, chunk_overlap=0)\n",
    "splits = text_splitter.split_documents(data)\n",
    "\n",
    "# Display the split document chunks.\n",
    "print(\"\\n--- Split Document Chunks ---\")\n",
    "print(splits)\n",
    "\n",
    "# --- 3. Initialize Embeddings ---\n",
    "# Initialize OllamaEmbeddings. Ensure Ollama is running and a default model (like 'llama2')\n",
    "# is pulled via `ollama pull llama2`.\n",
    "embedding = OllamaEmbeddings(model='llama3')\n",
    "\n",
    "# --- 4. Build an In-Memory Chroma Vector Database ---\n",
    "# Create an in-memory Chroma vector database from the split documents and the embeddings.\n",
    "# This database will exist only during the current session.\n",
    "vectordb = Chroma.from_documents(documents=splits, embedding=embedding)\n",
    "\n",
    "# Display the Chroma database object.\n",
    "print(\"\\n--- In-Memory Chroma DB Created ---\")\n",
    "print(vectordb)"
   ]
  },
  {
   "cell_type": "markdown",
   "metadata": {},
   "source": [
    "### Querying the In-Memory Chroma Database\n",
    "\n",
    "Once the documents are embedded and stored in Chroma, we can perform similarity searches to retrieve relevant documents based on a query."
   ]
  },
  {
   "cell_type": "code",
   "execution_count": 3,
   "metadata": {},
   "outputs": [
    {
     "name": "stderr",
     "output_type": "stream",
     "text": [
      "Failed to send telemetry event CollectionQueryEvent: capture() takes 1 positional argument but 3 were given\n"
     ]
    },
    {
     "name": "stdout",
     "output_type": "stream",
     "text": [
      "--- Result from In-Memory DB Similarity Search ---\n",
      "The world must be made safe for democracy. Its peace must be planted upon the tested foundations of political liberty. We have no selfish ends to serve. We desire no conquest, no dominion. We seek no indemnities for ourselves, no material compensation for the sacrifices we shall freely make. We are but one of the champions of the rights of mankind. We shall be satisfied when those rights have been made as secure as the faith and the freedom of nations can make them.\n"
     ]
    }
   ],
   "source": [
    "# Define a query string to search for similar content\n",
    "query = \"What does the speaker believe is the main reason the United States should enter the war?\"\n",
    "\n",
    "# Perform a similarity search on the in-memory Chroma database.\n",
    "# This embeds the query and finds the most similar document chunks.\n",
    "docs = vectordb.similarity_search(query)\n",
    "\n",
    "# Print the page content of the first retrieved document.\n",
    "print(\"--- Result from In-Memory DB Similarity Search ---\")\n",
    "print(docs[0].page_content)"
   ]
  },
  {
   "cell_type": "markdown",
   "metadata": {},
   "source": [
    "### Saving and Loading Chroma to Disk (Persistence)\n",
    "\n",
    "A key feature of Chroma is its ability to persist the vector database to disk. This means you can save your indexed embeddings and associated documents, then load them back later without having to re-embed all your data. This is essential for building production-ready RAG applications."
   ]
  },
  {
   "cell_type": "code",
   "execution_count": 15,
   "metadata": {},
   "outputs": [
    {
     "name": "stderr",
     "output_type": "stream",
     "text": [
      "Failed to send telemetry event ClientStartEvent: capture() takes 1 positional argument but 3 were given\n",
      "Failed to send telemetry event ClientCreateCollectionEvent: capture() takes 1 positional argument but 3 were given\n",
      "Failed to send telemetry event ClientStartEvent: capture() takes 1 positional argument but 3 were given\n",
      "Failed to send telemetry event ClientCreateCollectionEvent: capture() takes 1 positional argument but 3 were given\n",
      "Failed to send telemetry event CollectionQueryEvent: capture() takes 1 positional argument but 3 were given\n"
     ]
    },
    {
     "name": "stdout",
     "output_type": "stream",
     "text": [
      "\n",
      "--- Chroma DB Saved to Disk at './chroma_db_tmp' ---\n",
      "<langchain_chroma.vectorstores.Chroma object at 0x10c6d98d0>\n",
      "\n",
      "--- Result from Loaded DB Similarity Search ---\n",
      "The world must be made safe for democracy. Its peace must be planted upon the tested foundations of political liberty. We have no selfish ends to serve. We desire no conquest, no dominion. We seek no indemnities for ourselves, no material compensation for the sacrifices we shall freely make. We are but one of the champions of the rights of mankind. We shall be satisfied when those rights have been made as secure as the faith and the freedom of nations can make them.\n"
     ]
    }
   ],
   "source": [
    "## Saving to the disk\n",
    "# Define the directory where the Chroma database will be persisted.\n",
    "persist_directory = \"./chroma_db_tmp\"\n",
    "\n",
    "# --- 1. Save to Disk ---\n",
    "# Create a Chroma vector database, this time specifying a `persist_directory`.\n",
    "# Chroma will automatically save its data to this location.\n",
    "vectordb=Chroma.from_documents(documents=splits,embedding=embedding,persist_directory=persist_directory)\n",
    "\n",
    "print(f\"\\n--- Chroma DB Saved to Disk at '{persist_directory}' ---\")\n",
    "print(vectordb)\n",
    "\n",
    "# --- 2. Load from Disk ---\n",
    "# Load the Chroma database back from the specified `persist_directory`.\n",
    "# You must provide the same `embedding_function` that was used to create it.\n",
    "db2 = Chroma(persist_directory=persist_directory, embedding_function=embedding)\n",
    "\n",
    "# Verify the loaded database by performing a similarity search.\n",
    "docs_loaded = db2.similarity_search(query)\n",
    "\n",
    "# Print the page content of the first retrieved document from the loaded database.\n",
    "print(\"\\n--- Result from Loaded DB Similarity Search ---\")\n",
    "print(docs_loaded[0].page_content)"
   ]
  },
  {
   "cell_type": "markdown",
   "metadata": {},
   "source": [
    "### Similarity Search with Score\n",
    "\n",
    "Chroma allows you to retrieve documents along with a similarity score, which indicates how closely related the retrieved document is to your query. For Chroma's default cosine distance, **a lower score indicates higher similarity (closer to 0 for identical)**."
   ]
  },
  {
   "cell_type": "code",
   "execution_count": 16,
   "metadata": {},
   "outputs": [
    {
     "name": "stdout",
     "output_type": "stream",
     "text": [
      "--- Results from similarity_search_with_score ---\n",
      "[(Document(id='f37895a9-8695-4224-8975-9c0bff2e3724', metadata={'source': 'speech.txt'}, page_content='The world must be made safe for democracy. Its peace must be planted upon the tested foundations of political liberty. We have no selfish ends to serve. We desire no conquest, no dominion. We seek no indemnities for ourselves, no material compensation for the sacrifices we shall freely make. We are but one of the champions of the rights of mankind. We shall be satisfied when those rights have been made as secure as the faith and the freedom of nations can make them.'), 20637.166015625), (Document(id='cce077dc-17f7-47ab-ad76-2078d64cb13d', metadata={'source': 'speech.txt'}, page_content='The world must be made safe for democracy. Its peace must be planted upon the tested foundations of political liberty. We have no selfish ends to serve. We desire no conquest, no dominion. We seek no indemnities for ourselves, no material compensation for the sacrifices we shall freely make. We are but one of the champions of the rights of mankind. We shall be satisfied when those rights have been made as secure as the faith and the freedom of nations can make them.'), 20637.166015625), (Document(id='83c648d3-af58-4d98-b4d6-9e6e4ada0095', metadata={'source': 'speech.txt'}, page_content='The world must be made safe for democracy. Its peace must be planted upon the tested foundations of political liberty. We have no selfish ends to serve. We desire no conquest, no dominion. We seek no indemnities for ourselves, no material compensation for the sacrifices we shall freely make. We are but one of the champions of the rights of mankind. We shall be satisfied when those rights have been made as secure as the faith and the freedom of nations can make them.'), 20637.166015625), (Document(id='5a3ee5d6-8b60-4432-b412-52542cc282a7', metadata={'source': 'speech.txt'}, page_content='The world must be made safe for democracy. Its peace must be planted upon the tested foundations of political liberty. We have no selfish ends to serve. We desire no conquest, no dominion. We seek no indemnities for ourselves, no material compensation for the sacrifices we shall freely make. We are but one of the champions of the rights of mankind. We shall be satisfied when those rights have been made as secure as the faith and the freedom of nations can make them.'), 20637.166015625)]\n"
     ]
    }
   ],
   "source": [
    "# Perform a similarity search and return the documents along with their scores.\n",
    "# The `vectordb` variable here refers to the potentially in-memory or the last-created persistent one.\n",
    "# For consistent results, it's best to use `vectordb_persistent` if you re-run cells.\n",
    "docs_with_score = vectordb.similarity_search_with_score(query)\n",
    "\n",
    "# Print the retrieved documents and their scores.\n",
    "# Each item in the list is a tuple: (Document object, similarity score).\n",
    "print(\"--- Results from similarity_search_with_score ---\")\n",
    "print(docs_with_score)"
   ]
  },
  {
   "cell_type": "markdown",
   "metadata": {},
   "source": [
    "### Retriever Option\n",
    "\n",
    "LangChain's `Retriever` interface provides a standardized way to fetch documents. You can convert any LangChain vector store, including Chroma, into a `Retriever` for easy integration into more complex LangChain chains and agents."
   ]
  },
  {
   "cell_type": "code",
   "execution_count": 17,
   "metadata": {},
   "outputs": [
    {
     "name": "stdout",
     "output_type": "stream",
     "text": [
      "--- Result from Retriever.invoke ---\n",
      "The world must be made safe for democracy. Its peace must be planted upon the tested foundations of political liberty. We have no selfish ends to serve. We desire no conquest, no dominion. We seek no indemnities for ourselves, no material compensation for the sacrifices we shall freely make. We are but one of the champions of the rights of mankind. We shall be satisfied when those rights have been made as secure as the faith and the freedom of nations can make them.\n"
     ]
    }
   ],
   "source": [
    "# Convert the Chroma vector database into a LangChain Retriever.\n",
    "# This makes it compatible with LangChain's standard retrieval methods.\n",
    "retriever = vectordb.as_retriever()\n",
    "\n",
    "# Use the `invoke` method of the retriever with the query.\n",
    "# This returns a list of Document objects.\n",
    "docs_from_retriever = retriever.invoke(query)\n",
    "\n",
    "# Print the page content of the first document retrieved by the retriever.\n",
    "print(\"--- Result from Retriever.invoke ---\")\n",
    "print(docs_from_retriever[0].page_content)"
   ]
  }
 ],
 "metadata": {
  "kernelspec": {
   "display_name": "lng-chn-env",
   "language": "python",
   "name": "python3"
  },
  "language_info": {
   "codemirror_mode": {
    "name": "ipython",
    "version": 3
   },
   "file_extension": ".py",
   "mimetype": "text/x-python",
   "name": "python",
   "nbconvert_exporter": "python",
   "pygments_lexer": "ipython3",
   "version": "3.13.3"
  }
 },
 "nbformat": 4,
 "nbformat_minor": 2
}
